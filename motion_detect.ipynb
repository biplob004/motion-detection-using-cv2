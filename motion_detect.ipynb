{
 "cells": [
  {
   "cell_type": "code",
   "execution_count": 26,
   "metadata": {},
   "outputs": [
    {
     "name": "stdout",
     "output_type": "stream",
     "text": [
      "Motion detected with sensitivity:  854250\n",
      "Motion detected with sensitivity:  352155\n",
      "Motion detected with sensitivity:  2102220\n",
      "Motion detected with sensitivity:  1485630\n",
      "Motion detected with sensitivity:  1091910\n",
      "Motion detected with sensitivity:  1393320\n"
     ]
    }
   ],
   "source": [
    "import cv2\n",
    "import numpy as np\n",
    "\n",
    "cap = cv2.VideoCapture(0)\n",
    "\n",
    "# cap.set(3, 480) # set width and height (optional)\n",
    "# cap.set(4, 240)\n",
    "\n",
    "prev_frame = None\n",
    "current_frame = None\n",
    "\n",
    "frame_counter = 0 \n",
    "thresh_low = 25\n",
    "sensitivity = 100000\n",
    "\n",
    "\n",
    "while True:\n",
    "    ret, frame = cap.read()\n",
    "    frame_counter+=1  # couting frame\n",
    "    \n",
    "    gray = cv2.cvtColor(frame, cv2.COLOR_BGR2GRAY)\n",
    "    gray = cv2.GaussianBlur(gray, (21, 21), 0)  # bluring to get rid of camera noise\n",
    "    \n",
    "    \n",
    "    cv2.imshow(\"frame\", np.hstack((frame, cv2.cvtColor(gray, cv2.COLOR_GRAY2BGR)))) # show video (optional)\n",
    "    # cv2.imshow('gray', gray)\n",
    "     \n",
    "    current_frame = gray \n",
    "    \n",
    "    if type(prev_frame) == type(None): # checking if it is first frame\n",
    "        prev_frame = current_frame \n",
    "        \n",
    "    frame_diff = cv2.absdiff(prev_frame, current_frame) # getting absolute difference between two frames\n",
    "    thresh = cv2.threshold(frame_diff, thresh_low, 255, cv2.THRESH_BINARY)[1] # setting a threshold, and set zero below this \n",
    "     \n",
    "    motion = np.sum(thresh) # Sum intensity of pixels after these preprocessing\n",
    "    \n",
    "    if(motion > sensitivity): # orbitarily set value here, it will define sensitivity\n",
    "        print('Motion detected with sensitivity: ',motion)\n",
    "        # Here do all the things you want to do after detection of motion\n",
    "\n",
    "        \n",
    "    if frame_counter > 100: # reset frame counter after everry 100 frame, you can change this value\n",
    "        prev_frame = current_frame\n",
    "        frame_counter = 0\n",
    "        \n",
    "        \n",
    "    if cv2.waitKey(1) & 0xFF == ord('q'):\n",
    "        break\n",
    "    \n",
    "cv2.waitKey(0)\n",
    "cap.release()\n",
    "cv2.destroyAllWindows()\n",
    "\n",
    "\n"
   ]
  },
  {
   "cell_type": "code",
   "execution_count": 20,
   "metadata": {},
   "outputs": [],
   "source": []
  }
 ],
 "metadata": {
  "kernelspec": {
   "display_name": "Python 3",
   "language": "python",
   "name": "python3"
  },
  "language_info": {
   "codemirror_mode": {
    "name": "ipython",
    "version": 3
   },
   "file_extension": ".py",
   "mimetype": "text/x-python",
   "name": "python",
   "nbconvert_exporter": "python",
   "pygments_lexer": "ipython3",
   "version": "3.6.9"
  }
 },
 "nbformat": 4,
 "nbformat_minor": 4
}
